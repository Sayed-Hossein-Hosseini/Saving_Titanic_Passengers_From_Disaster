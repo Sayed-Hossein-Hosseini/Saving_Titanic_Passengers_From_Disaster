{
  "nbformat": 4,
  "nbformat_minor": 0,
  "metadata": {
    "colab": {
      "provenance": [],
      "authorship_tag": "ABX9TyN8OnIQkPSzDrUyXzvd3Jw7",
      "include_colab_link": true
    },
    "kernelspec": {
      "name": "python3",
      "display_name": "Python 3"
    },
    "language_info": {
      "name": "python"
    }
  },
  "cells": [
    {
      "cell_type": "markdown",
      "metadata": {
        "id": "view-in-github",
        "colab_type": "text"
      },
      "source": [
        "<a href=\"https://colab.research.google.com/github/Sayed-Hossein-Hosseini/Saving_Titanic_Passengers_From_Disaster/blob/master/Saving_Titanic_Passengers_From_Disaster.ipynb\" target=\"_parent\"><img src=\"https://colab.research.google.com/assets/colab-badge.svg\" alt=\"Open In Colab\"/></a>"
      ]
    },
    {
      "cell_type": "markdown",
      "source": [
        "# **Saving Titanic Passengers From Disaster**"
      ],
      "metadata": {
        "id": "KQuOPe2-ANPI"
      }
    },
    {
      "cell_type": "markdown",
      "source": [
        "## **Libraries**"
      ],
      "metadata": {
        "id": "q8H1qIBdASef"
      }
    },
    {
      "cell_type": "code",
      "execution_count": 1,
      "metadata": {
        "id": "kWb4Fk91EqBU",
        "colab": {
          "base_uri": "https://localhost:8080/"
        },
        "outputId": "e764bc99-aca9-4841-f368-de3e84c1ee2d"
      },
      "outputs": [
        {
          "output_type": "stream",
          "name": "stdout",
          "text": [
            "Requirement already satisfied: pandas in /usr/local/lib/python3.11/dist-packages (2.2.2)\n",
            "Requirement already satisfied: openpyxl in /usr/local/lib/python3.11/dist-packages (3.1.5)\n",
            "Requirement already satisfied: numpy>=1.23.2 in /usr/local/lib/python3.11/dist-packages (from pandas) (2.0.2)\n",
            "Requirement already satisfied: python-dateutil>=2.8.2 in /usr/local/lib/python3.11/dist-packages (from pandas) (2.9.0.post0)\n",
            "Requirement already satisfied: pytz>=2020.1 in /usr/local/lib/python3.11/dist-packages (from pandas) (2025.2)\n",
            "Requirement already satisfied: tzdata>=2022.7 in /usr/local/lib/python3.11/dist-packages (from pandas) (2025.2)\n",
            "Requirement already satisfied: et-xmlfile in /usr/local/lib/python3.11/dist-packages (from openpyxl) (2.0.0)\n",
            "Requirement already satisfied: six>=1.5 in /usr/local/lib/python3.11/dist-packages (from python-dateutil>=2.8.2->pandas) (1.17.0)\n"
          ]
        }
      ],
      "source": [
        "!pip install pandas openpyxl\n",
        "\n",
        "import pandas as pd"
      ]
    },
    {
      "cell_type": "markdown",
      "source": [
        "## **Data Loading**"
      ],
      "metadata": {
        "id": "DBNj31rZPEvK"
      }
    },
    {
      "cell_type": "code",
      "source": [
        "# --- Settings ---\n",
        "# Path to the training data Excel file\n",
        "file_path_train = '/content/Titanic/train.csv'\n",
        "# Path to the test data Excel file\n",
        "file_path_test = '/content/Titanic/test.csv'\n",
        "\n",
        "# If the data is not in the first sheet, specify the sheet name\n",
        "# sheet_name_train = 'Sheet1' # Example\n",
        "# sheet_name_test = 'Sheet1'  # Example\n",
        "# --- End of Settings ---\n",
        "\n",
        "# Initialize DataFrames to None to check if they were successfully loaded later\n",
        "df_train = None\n",
        "df_test = None\n",
        "\n",
        "try:\n",
        "    # Read the training data file (usually reads the first sheet by default)\n",
        "    # If a different sheet is needed, use the sheet_name parameter:\n",
        "    # df_train = pd.read_excel(file_path_train, sheet_name=sheet_name_train)\n",
        "    df_train = pd.read_csv(file_path_train)\n",
        "    print(f\"Training DataFrame successfully read from file '{file_path_train}'.\")\n",
        "    print(\"First few rows of the training DataFrame:\")\n",
        "    print(df_train.head())\n",
        "    print(\"-\" * 30)\n",
        "\n",
        "except FileNotFoundError:\n",
        "    print(f\"Error: Training file '{file_path_train}' not found. Please check the file path.\")\n",
        "except Exception as e:\n",
        "    print(f\"Error reading the training file: {e}\")\n",
        "\n",
        "\n",
        "try:\n",
        "    # Read the test data file (usually reads the first sheet by default)\n",
        "    # If a different sheet is needed, use the sheet_name parameter:\n",
        "    # df_test = pd.read_excel(file_path_test, sheet_name=sheet_name_test)\n",
        "    df_test = pd.read_csv(file_path_test)\n",
        "    print(f\"Test DataFrame successfully read from file '{file_path_test}'.\")\n",
        "    print(\"First few rows of the test DataFrame:\")\n",
        "    print(df_test.head())\n",
        "    print(\"-\" * 30)\n",
        "\n",
        "    # Now you can work with df_train and df_test (if both were read successfully)\n",
        "    # Example: Check if both DataFrames were loaded\n",
        "    if df_train is not None and df_test is not None:\n",
        "        print(\"Both training and test DataFrames loaded successfully.\")\n",
        "        # Add your data processing steps here...\n",
        "    else:\n",
        "        print(\"One or both DataFrames failed to load. Check previous error messages.\")\n",
        "\n",
        "\n",
        "except FileNotFoundError:\n",
        "    print(f\"Error: Test file '{file_path_test}' not found. Please check the file path.\")\n",
        "except Exception as e:\n",
        "    print(f\"Error reading the test file: {e}\")"
      ],
      "metadata": {
        "colab": {
          "base_uri": "https://localhost:8080/"
        },
        "id": "m846mFLWPE7n",
        "outputId": "f21f3dd8-2ddf-4ad1-b58a-3f40dd7b6769"
      },
      "execution_count": 2,
      "outputs": [
        {
          "output_type": "stream",
          "name": "stdout",
          "text": [
            "Training DataFrame successfully read from file '/content/Titanic/train.csv'.\n",
            "First few rows of the training DataFrame:\n",
            "   PassengerId  Survived  Pclass  \\\n",
            "0            1         0       3   \n",
            "1            2         1       1   \n",
            "2            3         1       3   \n",
            "3            4         1       1   \n",
            "4            5         0       3   \n",
            "\n",
            "                                                Name     Sex   Age  SibSp  \\\n",
            "0                            Braund, Mr. Owen Harris    male  22.0      1   \n",
            "1  Cumings, Mrs. John Bradley (Florence Briggs Th...  female  38.0      1   \n",
            "2                             Heikkinen, Miss. Laina  female  26.0      0   \n",
            "3       Futrelle, Mrs. Jacques Heath (Lily May Peel)  female  35.0      1   \n",
            "4                           Allen, Mr. William Henry    male  35.0      0   \n",
            "\n",
            "   Parch            Ticket     Fare Cabin Embarked  \n",
            "0      0         A/5 21171   7.2500   NaN        S  \n",
            "1      0          PC 17599  71.2833   C85        C  \n",
            "2      0  STON/O2. 3101282   7.9250   NaN        S  \n",
            "3      0            113803  53.1000  C123        S  \n",
            "4      0            373450   8.0500   NaN        S  \n",
            "------------------------------\n",
            "Test DataFrame successfully read from file '/content/Titanic/test.csv'.\n",
            "First few rows of the test DataFrame:\n",
            "   PassengerId  Pclass                                          Name     Sex  \\\n",
            "0          892       3                              Kelly, Mr. James    male   \n",
            "1          893       3              Wilkes, Mrs. James (Ellen Needs)  female   \n",
            "2          894       2                     Myles, Mr. Thomas Francis    male   \n",
            "3          895       3                              Wirz, Mr. Albert    male   \n",
            "4          896       3  Hirvonen, Mrs. Alexander (Helga E Lindqvist)  female   \n",
            "\n",
            "    Age  SibSp  Parch   Ticket     Fare Cabin Embarked  \n",
            "0  34.5      0      0   330911   7.8292   NaN        Q  \n",
            "1  47.0      1      0   363272   7.0000   NaN        S  \n",
            "2  62.0      0      0   240276   9.6875   NaN        Q  \n",
            "3  27.0      0      0   315154   8.6625   NaN        S  \n",
            "4  22.0      1      1  3101298  12.2875   NaN        S  \n",
            "------------------------------\n",
            "Both training and test DataFrames loaded successfully.\n"
          ]
        }
      ]
    }
  ]
}